{
 "cells": [
  {
   "cell_type": "code",
   "execution_count": null,
   "metadata": {},
   "outputs": [
    {
     "name": "stdin",
     "output_type": "stream",
     "text": [
      "What is your name?:  Andrew\n",
      "What is your grade (0-100)?:  67\n"
     ]
    },
    {
     "name": "stdout",
     "output_type": "stream",
     "text": [
      "Andrew's grade is D\n"
     ]
    }
   ],
   "source": [
    "userName = input(\"What is your name?: \")\n",
    "userGrade = input(\"What is your grade (0-100)?: \")\n",
    "userGrade = int(userGrade)\n",
    "\n",
    "def computerGrade(userGrade):\n",
    "    try:\n",
    "        \n",
    "        if (userGrade >= 94 and userGrade <= 100) or (userGrade >= 94.0 and userGrade <= 100.0):\n",
    "            return \"A\"\n",
    "        elif (userGrade >= 85 and userGrade <= 93) or (userGrade >= 85.0 and userGrade <= 93.0):\n",
    "            return \"B\"\n",
    "        elif (userGrade >=74 and userGrade <=84) or (userGrade >= 74.0 and userGrade <= 84.0):\n",
    "            return \"C\"\n",
    "        elif (userGrade >= 63 and userGrade <= 73) or (userGrade >= 63.0 and userGrade <= 73.0):\n",
    "            return \"D\"\n",
    "        elif (userGrade <= 62 and userGrade >=0) or (userGrade <= 62.0 and userGrade >= 0.0):\n",
    "            return \"F\"\n",
    "        elif userGrade > 100:\n",
    "            return print(\"make sure your grade is less than 100\")\n",
    "        elif userGrade < 0:\n",
    "            return print(\"you cannot have a negative grade...\")\n",
    "    except:\n",
    "        userGrade = float(userGrade)\n",
    "        if (userGrade >= 94 and userGrade <= 100) or (userGrade >= 94.0 and userGrade <= 100.0):\n",
    "            return \"A\"\n",
    "        elif (userGrade >= 85 and userGrade <= 93) or (userGrade >= 85.0 and userGrade <= 93.0):\n",
    "            return \"B\"\n",
    "        elif (userGrade >=74 and userGrade <=84) or (userGrade >= 74.0 and userGrade <= 84.0):\n",
    "            return \"C\"\n",
    "        elif (userGrade >= 63 and userGrade <= 73) or (userGrade >= 63.0 and userGrade <= 73.0):\n",
    "            return \"D\"\n",
    "        elif (userGrade <= 62 and userGrade >=0) or (userGrade <= 62.0 and userGrade >= 0.0):\n",
    "            return \"F\"\n",
    "        elif userGrade > 100:\n",
    "            return print(\"make sure your grade is less than 100\")\n",
    "        elif userGrade < 0:\n",
    "            return print(\"you cannot have a negative grade...\")\n",
    "while(userGrade <=100 and userGrade >=0):\n",
    "    if(userGrade > 100 or userGrade < 0):\n",
    "        break\n",
    "    \n",
    "    print(userName + \"'s grade is: \", computerGrade(userGrade))\n",
    "    userGrade = input(\"What is your grade (0-100)?: \")\n",
    "    userGrade = int(userGrade)"
   ]
  },
  {
   "cell_type": "code",
   "execution_count": null,
   "metadata": {},
   "outputs": [],
   "source": []
  }
 ],
 "metadata": {
  "kernelspec": {
   "display_name": "Python 3",
   "language": "python",
   "name": "python3"
  },
  "language_info": {
   "codemirror_mode": {
    "name": "ipython",
    "version": 3
   },
   "file_extension": ".py",
   "mimetype": "text/x-python",
   "name": "python",
   "nbconvert_exporter": "python",
   "pygments_lexer": "ipython3",
   "version": "3.8.5"
  }
 },
 "nbformat": 4,
 "nbformat_minor": 4
}
